{
  "nbformat": 4,
  "nbformat_minor": 0,
  "metadata": {
    "colab": {
      "provenance": [],
      "include_colab_link": true
    },
    "kernelspec": {
      "name": "python3",
      "display_name": "Python 3"
    },
    "gpuClass": "standard"
  },
  "cells": [
    {
      "cell_type": "markdown",
      "metadata": {
        "id": "view-in-github",
        "colab_type": "text"
      },
      "source": [
        "<a href=\"https://colab.research.google.com/github/tanvikurundkar/Pneumonia-Detection/blob/main/Tanvi_PneumoniaDetection_Section2.ipynb\" target=\"_parent\"><img src=\"https://colab.research.google.com/assets/colab-badge.svg\" alt=\"Open In Colab\"/></a>"
      ]
    },
    {
      "cell_type": "markdown",
      "metadata": {
        "id": "TiM6gYg0nhkY"
      },
      "source": [
        "<font color=\"#de3023\"><h1><b>REMINDER MAKE A COPY OF THIS NOTEBOOK, DO NOT EDIT</b></h1></font>"
      ]
    },
    {
      "cell_type": "markdown",
      "metadata": {
        "id": "T4sLmjIuDpmY"
      },
      "source": [
        "![](https://storage.googleapis.com/kaggle-competitions/kaggle/10338/logos/header.png)"
      ]
    },
    {
      "cell_type": "markdown",
      "metadata": {
        "id": "3veiK-TXoGSV"
      },
      "source": [
        "Today, we'll use neural networks for pneumonia detection! We'll practice creating toy neural networks, apply neural networks (including Convolutional Neural Nets!) to our pneumonia data, and experiment with *transfer learning*: learning from an existing \"expert network\"."
      ]
    },
    {
      "cell_type": "markdown",
      "metadata": {
        "id": "Tsa9kzHFh4yU"
      },
      "source": [
        "In this notebook we'll be:\n",
        "1.   Building Neural Networks with Keras\n",
        "2.   Implementing Transfer Learning\n",
        "3.   Evalulating our ML models\n",
        "\n"
      ]
    },
    {
      "cell_type": "code",
      "metadata": {
        "id": "aSeClkWgIORK",
        "colab": {
          "base_uri": "https://localhost:8080/"
        },
        "outputId": "6119e03e-46cc-48ea-b8ec-d56af0b7631b"
      },
      "source": [
        "#@title Run this to download data and prepare our environment! { display-mode: \"form\" }\n",
        "#%tensorflow_version 1.x\n",
        "\n",
        "import gdown\n",
        "import zipfile\n",
        "\n",
        "import os\n",
        "import numpy as np\n",
        "import pandas as pd\n",
        "\n",
        "import seaborn as sns\n",
        "import matplotlib.pyplot as plt\n",
        "\n",
        "from sklearn.metrics import accuracy_score, confusion_matrix\n",
        "\n",
        "import tensorflow.keras as keras\n",
        "import keras.optimizers as optimizers\n",
        "from keras.models import Sequential\n",
        "from keras.layers import Activation, MaxPooling2D, Dropout, Flatten, Reshape, Dense, Conv2D, GlobalAveragePooling2D, BatchNormalization\n",
        "from keras.regularizers import l2\n",
        "from keras.callbacks import ModelCheckpoint\n",
        "\n",
        "from keras.applications.vgg16 import VGG16\n",
        "from keras.applications.vgg19 import VGG19\n",
        "from tensorflow.keras.applications.resnet50 import ResNet50\n",
        "from keras.applications.densenet import DenseNet121\n",
        "\n",
        "\n",
        "class pkg:\n",
        "  #### DOWNLOADING AND LOADING DATA\n",
        "  def get_metadata(metadata_path, which_splits = ['train', 'test']):  \n",
        "    '''returns metadata dataframe which contains columns of:\n",
        "       * index: index of data into numpy data\n",
        "       * class: class of image\n",
        "       * split: which dataset split is this a part of? \n",
        "    '''\n",
        "    metadata = pd.read_csv(metadata_path)\n",
        "    keep_idx = metadata['split'].isin(which_splits)\n",
        "    return metadata[keep_idx]\n",
        "\n",
        "  def get_data_split(split_name, flatten, all_data, metadata, image_shape):\n",
        "    '''\n",
        "    returns images (data), labels from folder of format [image_folder]/[split_name]/[class_name]/\n",
        "    flattens if flatten option is True \n",
        "    '''\n",
        "    sub_df = metadata[metadata['split'].isin([split_name])]\n",
        "    index  = sub_df['index'].values\n",
        "    labels = sub_df['class'].values\n",
        "    data = all_data[index,:]\n",
        "    if flatten:\n",
        "      data = data.reshape([-1, np.product(image_shape)])\n",
        "    return data, labels\n",
        "\n",
        "  def get_train_data(flatten, all_data, metadata, image_shape):\n",
        "    return get_data_split('train', flatten, all_data, metadata, image_shape)\n",
        "\n",
        "  def get_test_data(flatten, all_data, metadata, image_shape):\n",
        "    return get_data_split('test', flatten, all_data, metadata, image_shape)\n",
        "\n",
        "  def get_field_data(flatten, all_data, metadata, image_shape):\n",
        "    return get_data_split('field', flatten, all_data, metadata, image_shape)\n",
        "  \n",
        "class helpers:\n",
        "  #### PLOTTING\n",
        "  def plot_one_image(data, labels = [], index = None, image_shape = [64,64,3]):\n",
        "    '''\n",
        "    if data is a single image, display that image\n",
        "\n",
        "    if data is a 4d stack of images, display that image\n",
        "    '''\n",
        "    num_dims   = len(data.shape)\n",
        "    num_labels = len(labels)\n",
        "\n",
        "    # reshape data if necessary\n",
        "    if num_dims == 1:\n",
        "      data = data.reshape(target_shape)\n",
        "    if num_dims == 2:\n",
        "      data = data.reshape(np.vstack[-1, image_shape])\n",
        "    num_dims   = len(data.shape)\n",
        "\n",
        "    # check if single or multiple images\n",
        "    if num_dims == 3:\n",
        "      if num_labels > 1:\n",
        "        print('Multiple labels does not make sense for single image.')\n",
        "        return\n",
        "\n",
        "      label = labels      \n",
        "      if num_labels == 0:\n",
        "        label = ''\n",
        "      image = data\n",
        "\n",
        "    if num_dims == 4:\n",
        "      image = data[index, :]\n",
        "      label = labels[index]\n",
        "\n",
        "    # plot image of interest\n",
        "    print('Label: %s'%label)\n",
        "    plt.imshow(image)\n",
        "    plt.show()\n",
        "\n",
        "  #### QUERYING AND COMBINING DATA\n",
        "  def get_misclassified_data(data, labels, predictions):\n",
        "    '''\n",
        "    Gets the data and labels that are misclassified in a classification task\n",
        "    Returns:\n",
        "    -missed_data\n",
        "    -missed_labels\n",
        "    -predicted_labels (corresponding to missed_labels)\n",
        "    -missed_index (indices of items in original dataset)\n",
        "    '''\n",
        "    missed_index     = np.where(np.abs(predictions.squeeze() - labels.squeeze()) > 0)[0]\n",
        "    missed_labels    = labels[missed_index]\n",
        "    missed_data      = data[missed_index,:]\n",
        "    predicted_labels = predictions[missed_index]\n",
        "    return missed_data, missed_labels, predicted_labels, missed_index\n",
        "\n",
        "  def combine_data(data_list, labels_list):\n",
        "    return np.concatenate(data_list, axis = 0), np.concatenate(labels_list, axis = 0)\n",
        "\n",
        "  def model_to_string(model):\n",
        "    import re\n",
        "    stringlist = []\n",
        "    model.summary(print_fn=lambda x: stringlist.append(x))\n",
        "    sms = \"\\n\".join(stringlist)\n",
        "    sms = re.sub('_\\d\\d\\d','', sms)\n",
        "    sms = re.sub('_\\d\\d','', sms)\n",
        "    sms = re.sub('_\\d','', sms)  \n",
        "    return sms\n",
        "\n",
        "  def plot_acc(history, ax = None, xlabel = 'Epoch #'):\n",
        "    # i'm sorry for this function's code. i am so sorry. \n",
        "    history = history.history\n",
        "    history.update({'epoch':list(range(len(history['val_accuracy'])))})\n",
        "    history = pd.DataFrame.from_dict(history)\n",
        "\n",
        "    best_epoch = history.sort_values(by = 'val_accuracy', ascending = False).iloc[0]['epoch']\n",
        "\n",
        "    if not ax:\n",
        "      f, ax = plt.subplots(1,1)\n",
        "    sns.lineplot(x = 'epoch', y = 'val_accuracy', data = history, label = 'Validation', ax = ax)\n",
        "    sns.lineplot(x = 'epoch', y = 'accuracy', data = history, label = 'Training', ax = ax)\n",
        "    ax.axhline(0.5, linestyle = '--',color='red', label = 'Chance')\n",
        "    ax.axvline(x = best_epoch, linestyle = '--', color = 'green', label = 'Best Epoch')  \n",
        "    ax.legend(loc = 4)    \n",
        "    ax.set_ylim([0.4, 1])\n",
        "\n",
        "    ax.set_xlabel(xlabel)\n",
        "    ax.set_ylabel('Accuracy (Fraction)')\n",
        "    \n",
        "    plt.show()\n",
        "\n",
        "class models:\n",
        "  def DenseClassifier(hidden_layer_sizes, nn_params):\n",
        "    model = Sequential()\n",
        "    model.add(Flatten(input_shape = nn_params['input_shape']))\n",
        "    model.add(Dropout(0.5))\n",
        "\n",
        "    for ilayer in hidden_layer_sizes:\n",
        "      model.add(Dense(ilayer, activation = 'relu'))\n",
        "      model.add(Dropout(0.5))\n",
        "    \n",
        "    model.add(Dense(units = nn_params['output_neurons'], activation = nn_params['output_activation']))\n",
        "    model.compile(loss=nn_params['loss'],\n",
        "                  optimizer= keras.optimizers.SGD(learning_rate=1e-4, momentum=0.95),\n",
        "                  metrics=['accuracy'])\n",
        "    return model\n",
        "\n",
        "  def CNNClassifier(num_hidden_layers, nn_params):\n",
        "    model = Sequential()\n",
        "\n",
        "    model.add(Conv2D(32, (3, 3), input_shape=nn_params['input_shape'], padding = 'same', kernel_regularizer=l2(0.01), bias_regularizer=l2(0.01)))\n",
        "    model.add(Activation('relu'))\n",
        "    model.add(MaxPooling2D(pool_size=(2, 2)))\n",
        "\n",
        "    for i in range(num_hidden_layers-1):\n",
        "        model.add(Conv2D(64, (3, 3), padding = 'same', kernel_regularizer=l2(0.01), bias_regularizer=l2(0.01)))\n",
        "        model.add(Activation('relu'))\n",
        "        model.add(MaxPooling2D(pool_size=(2, 2)))\n",
        "\n",
        "    model.add(Flatten()) \n",
        "\n",
        "    model.add(Dense(units = 128, activation = 'relu'))\n",
        "    model.add(Dropout(0.5))\n",
        "    model.add(Dense(units = 64, activation = 'relu', kernel_regularizer=l2(0.01), bias_regularizer=l2(0.01)))\n",
        "    model.add(Dropout(0.5))\n",
        "\n",
        "    model.add(Dense(units = nn_params['output_neurons'], activation = nn_params['output_activation']))\n",
        "\n",
        "    # initiate RMSprop optimizer\n",
        "    opt = keras.optimizers.RMSprop(learning_rate=1e-5, decay=1e-6)\n",
        "\n",
        "    # Let's train the model using RMSprop\n",
        "    model.compile(loss=nn_params['loss'],\n",
        "                  optimizer=opt,\n",
        "                  metrics=['accuracy'])    \n",
        "    return model\n",
        "\n",
        "  def TransferClassifier(name, nn_params, trainable = True):\n",
        "    expert_dict = {'VGG16': VGG16, \n",
        "                   'VGG19': VGG19,\n",
        "                   'ResNet50':ResNet50,\n",
        "                   'DenseNet121':DenseNet121}\n",
        "\n",
        "    expert_conv = expert_dict[name](weights = 'imagenet', \n",
        "                                              include_top = False, \n",
        "                                              input_shape = nn_params['input_shape'])\n",
        "    for layer in expert_conv.layers:\n",
        "      layer.trainable = trainable\n",
        "      \n",
        "    expert_model = Sequential()\n",
        "    expert_model.add(expert_conv)\n",
        "    expert_model.add(GlobalAveragePooling2D())\n",
        "\n",
        "    expert_model.add(Dense(128, activation = 'relu'))\n",
        "    expert_model.add(Dropout(0.5))\n",
        "\n",
        "    expert_model.add(Dense(64, activation = 'relu'))\n",
        "    expert_model.add(Dropout(0.5))\n",
        "\n",
        "    expert_model.add(Dense(nn_params['output_neurons'], activation = nn_params['output_activation']))\n",
        "\n",
        "    expert_model.compile(loss = nn_params['loss'], \n",
        "                  optimizer = keras.optimizers.SGD(learning_rate=1e-4, momentum=0.9), \n",
        "                  metrics=['accuracy'])\n",
        "\n",
        "    return expert_model\n",
        "\n",
        "### defining project variables\n",
        "# file variables\n",
        "metadata_url         = \"https://storage.googleapis.com/inspirit-ai-data-bucket-1/Data/AI%20Scholars/Sessions%206%20-%2010%20(Projects)/Project%20-%20(Healthcare%20A)%20Pneumonia/metadata.csv\"\n",
        "image_data_url       = 'https://storage.googleapis.com/inspirit-ai-data-bucket-1/Data/AI%20Scholars/Sessions%206%20-%2010%20(Projects)/Project%20-%20(Healthcare%20A)%20Pneumonia/image_data.npy'\n",
        "image_data_path      = './image_data.npy'\n",
        "metadata_path        = './metadata.csv'\n",
        "image_shape          = (64, 64, 3)\n",
        "\n",
        "# neural net parameters\n",
        "nn_params = {}\n",
        "nn_params['input_shape']       = image_shape\n",
        "nn_params['output_neurons']    = 1\n",
        "nn_params['loss']              = 'binary_crossentropy'\n",
        "nn_params['output_activation'] = 'sigmoid'\n",
        "\n",
        "###\n",
        "# gdown.download(image_data_url, './image_data.npy', True)\n",
        "# gdown.download(metadata_url, './metadata.csv', True)\n",
        "!wget \"https://storage.googleapis.com/inspirit-ai-data-bucket-1/Data/AI%20Scholars/Sessions%206%20-%2010%20(Projects)/Project%20-%20(Healthcare%20A)%20Pneumonia/metadata.csv\"\n",
        "!wget \"https://storage.googleapis.com/inspirit-ai-data-bucket-1/Data/AI%20Scholars/Sessions%206%20-%2010%20(Projects)/Project%20-%20(Healthcare%20A)%20Pneumonia/image_data.npy\"\n",
        "\n",
        "### pre-loading all data of interest\n",
        "_all_data = np.load('image_data.npy')\n",
        "_metadata = pkg.get_metadata(metadata_path, ['train','test','field'])\n",
        "\n",
        "### preparing definitions\n",
        "# downloading and loading data\n",
        "get_data_split = pkg.get_data_split\n",
        "get_metadata    = lambda :                 pkg.get_metadata(metadata_path, ['train','test'])\n",
        "get_train_data  = lambda flatten = False : pkg.get_train_data(flatten = flatten, all_data = _all_data, metadata = _metadata, image_shape = image_shape)\n",
        "get_test_data   = lambda flatten = False : pkg.get_test_data(flatten = flatten, all_data = _all_data, metadata = _metadata, image_shape = image_shape)\n",
        "get_field_data  = lambda flatten = False : pkg.get_field_data(flatten = flatten, all_data = _all_data, metadata = _metadata, image_shape = image_shape)\n",
        "\n",
        "# plotting\n",
        "plot_one_image = lambda data, labels = [], index = None: helpers.plot_one_image(data = data, labels = labels, index = index, image_shape = image_shape);\n",
        "plot_acc       = lambda history: helpers.plot_acc(history)\n",
        "\n",
        "# querying and combining data\n",
        "model_to_string        = lambda model: helpers.model_to_string(model)\n",
        "get_misclassified_data = helpers.get_misclassified_data;\n",
        "combine_data           = helpers.combine_data;\n",
        "\n",
        "# models with input parameters\n",
        "DenseClassifier     = lambda hidden_layer_sizes: models.DenseClassifier(hidden_layer_sizes = hidden_layer_sizes, nn_params = nn_params);\n",
        "CNNClassifier       = lambda num_hidden_layers: models.CNNClassifier(num_hidden_layers, nn_params = nn_params);\n",
        "TransferClassifier  = lambda name: models.TransferClassifier(name = name, nn_params = nn_params);\n",
        "\n",
        "monitor = ModelCheckpoint('./model.h5', monitor='val_accuracy', verbose=0, save_best_only=True, save_weights_only=False, mode='auto', save_freq='epoch')"
      ],
      "execution_count": null,
      "outputs": [
        {
          "output_type": "stream",
          "name": "stdout",
          "text": [
            "--2022-06-29 09:08:33--  https://storage.googleapis.com/inspirit-ai-data-bucket-1/Data/AI%20Scholars/Sessions%206%20-%2010%20(Projects)/Project%20-%20(Healthcare%20A)%20Pneumonia/metadata.csv\n",
            "Resolving storage.googleapis.com (storage.googleapis.com)... 74.125.204.128, 64.233.187.128, 64.233.188.128, ...\n",
            "Connecting to storage.googleapis.com (storage.googleapis.com)|74.125.204.128|:443... connected.\n",
            "HTTP request sent, awaiting response... 200 OK\n",
            "Length: 40508 (40K) [text/csv]\n",
            "Saving to: ‘metadata.csv’\n",
            "\n",
            "\rmetadata.csv          0%[                    ]       0  --.-KB/s               \rmetadata.csv        100%[===================>]  39.56K  --.-KB/s    in 0s      \n",
            "\n",
            "2022-06-29 09:08:33 (107 MB/s) - ‘metadata.csv’ saved [40508/40508]\n",
            "\n",
            "--2022-06-29 09:08:33--  https://storage.googleapis.com/inspirit-ai-data-bucket-1/Data/AI%20Scholars/Sessions%206%20-%2010%20(Projects)/Project%20-%20(Healthcare%20A)%20Pneumonia/image_data.npy\n",
            "Resolving storage.googleapis.com (storage.googleapis.com)... 64.233.189.128, 74.125.204.128, 2404:6800:4008:c07::80, ...\n",
            "Connecting to storage.googleapis.com (storage.googleapis.com)|64.233.189.128|:443... connected.\n",
            "HTTP request sent, awaiting response... 200 OK\n",
            "Length: 137625728 (131M) [application/octet-stream]\n",
            "Saving to: ‘image_data.npy’\n",
            "\n",
            "image_data.npy      100%[===================>] 131.25M  83.4MB/s    in 1.6s    \n",
            "\n",
            "2022-06-29 09:08:35 (83.4 MB/s) - ‘image_data.npy’ saved [137625728/137625728]\n",
            "\n"
          ]
        }
      ]
    },
    {
      "cell_type": "markdown",
      "metadata": {
        "id": "l-hvosCRrBGu"
      },
      "source": [
        "## Instructor-led Discussion: Steps for Building a NN in Keras"
      ]
    },
    {
      "cell_type": "markdown",
      "metadata": {
        "id": "SYqvCKWpKfRM"
      },
      "source": [
        "### What are neural networks?"
      ]
    },
    {
      "cell_type": "markdown",
      "metadata": {
        "id": "qA1Rc_u3KoJT"
      },
      "source": [
        "Just as we went over last week, neural networks look something like this: \n",
        "![A 2 layer neural network](https://cdn-images-1.medium.com/max/1600/1*DW0Ccmj1hZ0OvSXi7Kz5MQ.jpeg)\n"
      ]
    },
    {
      "cell_type": "markdown",
      "metadata": {
        "id": "3Q9S6SDcM8N9"
      },
      "source": [
        "Each orange and blue node is a neuron. The network itself is composed of a bunch of neurons that talk to each other and eventually give us a prediction. Let's get a bit more concrete with this..."
      ]
    },
    {
      "cell_type": "markdown",
      "metadata": {
        "id": "E--8mjToZYBp"
      },
      "source": [
        "To build neural networks in Python, we use the packages known as `tensorflow` and `keras`. Let's learn how to build and use these networks!"
      ]
    },
    {
      "cell_type": "code",
      "metadata": {
        "id": "cqFAnQCxsgRm"
      },
      "source": [
        "# grab tools from our tensorflow and keras toolboxes!\n",
        "import tensorflow.keras as keras\n",
        "from keras.models import Sequential\n",
        "from keras.layers import Activation, Dropout, Flatten, Dense, BatchNormalization\n",
        "from keras import optimizers"
      ],
      "execution_count": null,
      "outputs": []
    },
    {
      "cell_type": "markdown",
      "metadata": {
        "id": "fq4G0hDwZKnM"
      },
      "source": [
        "## Exercise (Coding): A 2-Layer Model"
      ]
    },
    {
      "cell_type": "markdown",
      "metadata": {
        "id": "Bj-Pt3wGCXRu"
      },
      "source": [
        "\n",
        "We're going to build this model: \n",
        "\n",
        "![](http://cs231n.github.io/assets/nn1/neural_net.jpeg)"
      ]
    },
    {
      "cell_type": "markdown",
      "metadata": {
        "id": "H-6WGeedvTCS"
      },
      "source": [
        "This network can be described as: \n",
        "* Input Layer: 3\n",
        "* Layer 1 (Hidden): 4 neurons with the `'relu'` activation function\n",
        "* Layer 2 (Output): 2 neurons with the `'softmax'` activation function\n",
        "\n",
        "We're going to set up a **Sequential** model by adding on a sequence of layers.\n",
        "\n",
        "Each layer will be **Dense**, meaning each neuron of the previous layer connects to each neuron of this layer.\n",
        "\n",
        "We'll compile our model to make it ready to use! We'll use:\n",
        "- `loss = 'categorical_crossentropy'` (how to measure the model's performance while it trains)\n",
        "- `optimizer = 'adam'` (an algorithm for adjusting the weights)\n",
        "- `metric = 'accuracy'` (how to measure the model's performance at the end)\n",
        "\n",
        "Try it out below!"
      ]
    },
    {
      "cell_type": "code",
      "metadata": {
        "id": "-zgA-wPfvCyK"
      },
      "source": [
        "# Fill in the blanks with your group!\n",
        "### YOUR CODE HERE:\n",
        "model_1 = Sequential()\n",
        "model_1.add(Dense(4, input_shape = (3,), activation = 'relu'))\n",
        "model_1.add(Dense(2, activation = 'softmax'))\n",
        "model_1.compile(loss='categorical_crossentropy',\n",
        "                optimizer = 'adam', \n",
        "                metrics = ['accuracy'])\n",
        "### END CODE"
      ],
      "execution_count": null,
      "outputs": []
    },
    {
      "cell_type": "code",
      "metadata": {
        "id": "uK_lyjxGpwv3"
      },
      "source": [
        "#@title Double-click here if you want to read more detail!\n",
        "\"\"\"\n",
        "Let's walk though what each of these lines of code means!\n",
        "\n",
        "**1. Specify model**\n",
        "\n",
        "```\n",
        "model = Sequential()\n",
        "```\n",
        "In this line of code, we build our network where the information flows from LEFT to RIGHT through the network in ONE DIRECTION as opposed to multiple directions. Neurons on the right never pass informations to neurons on the left of it. \n",
        "\n",
        "\n",
        "**2. Add layers to the network**\n",
        "```\n",
        "model.add(Dense(4,input_shape = (3,), activation = 'softmax'))\n",
        "```\n",
        "In this code, we `add` a `layer` of neurons to our network. \n",
        "\n",
        "This layers consists of 4 neurons. Each neuron is DENSE and connects to all of the previous layer's inputs and all of the subsequent layers outputs. We specify that there are 3 inputs here.\n",
        "\n",
        "We also specify what kind of output the neuron will give. If you want the neuron to output a number between 0 and 1 (like a probability!) you would use 'softmax' or 'softmax'. If you want the neuron to output any number, you can use 'linear'! You'll also often see 'relu', which is when a neuron will only output positive numbers. \n",
        "\n",
        "```\n",
        "model.add(Dense(1, activation = 'linear'))\n",
        "```\n",
        "This code adds ANOTHER layer to the network that has 1 neuron. This one neuron is used to predict a continuous value!\n",
        "\n",
        "**3. Turn the model on by compiling it** \n",
        "\n",
        "After having built the network, we want to train and use it, so we have to 'turn it on' and 'compile' it. To turn it on, we have to specify at the very least, a loss, an optimizer, and some ways of evaluating the model (metrics). Don't worry too much about what this means! Just know that this is necessary. \n",
        "\n",
        "```\n",
        "model.compile(loss='mean_squared_error',\n",
        "optimizer = 'adam',\n",
        "metrics = ['mean_squared_error'])\n",
        "  ```\n",
        "\"\"\""
      ],
      "execution_count": null,
      "outputs": []
    },
    {
      "cell_type": "code",
      "metadata": {
        "id": "IH2UGOK4vuZ4",
        "cellView": "form",
        "colab": {
          "base_uri": "https://localhost:8080/"
        },
        "outputId": "29abfe7c-83e0-47c9-d85b-d4dd63f457a7"
      },
      "source": [
        "#@title Run this to test if your model is right!\n",
        "model_1_answer = Sequential()\n",
        "model_1_answer.add(Dense(4, input_shape = (3,), activation = 'relu'))\n",
        "model_1_answer.add(Dense(2, activation = 'softmax'))\n",
        "model_1_answer.compile(loss='categorical_crossentropy',\n",
        "optimizer = 'adam', \n",
        "metrics = ['accuracy'])\n",
        "\n",
        "model_1_config = model_1.get_config()\n",
        "\n",
        "del model_1_config[\"name\"]\n",
        "for layer in model_1_config[\"layers\"]:\n",
        "  del layer[\"config\"][\"name\"]\n",
        "\n",
        "model_1_answer_config = model_1_answer.get_config()\n",
        "\n",
        "del model_1_answer_config[\"name\"]\n",
        "for layer in model_1_answer_config[\"layers\"]:\n",
        "  del layer[\"config\"][\"name\"]\n",
        "\n",
        "if model_1_answer_config == model_1_config:\n",
        "  print('Good job! Your model worked')\n",
        "else: \n",
        "  print('Please check your code again!')\n",
        "\n",
        "# Old Code\n",
        "# if model_to_string(model_1) == model_to_string(model_1_answer):\n",
        "#   print('Good job! Your model worked')\n",
        "# else: \n",
        "#   print('Please check your code again!')"
      ],
      "execution_count": null,
      "outputs": [
        {
          "output_type": "stream",
          "name": "stdout",
          "text": [
            "Good job! Your model worked\n"
          ]
        }
      ]
    },
    {
      "cell_type": "markdown",
      "metadata": {
        "id": "GNBg8obslWlo"
      },
      "source": [
        "This is a toy example, so we won't train our model with real data - but we can feed in some fake inputs to see what happens! **How many inputs do we need?**\n"
      ]
    },
    {
      "cell_type": "code",
      "metadata": {
        "id": "vE_C03CplcyY"
      },
      "source": [
        "input_data = [[5,6,10]] #Fill in inputs here! How many?"
      ],
      "execution_count": null,
      "outputs": []
    },
    {
      "cell_type": "markdown",
      "metadata": {
        "id": "IJMbtRllotiY"
      },
      "source": [
        "Let's try it out! What do **predict** and **predict_classes** do? How do you interpret the outputs?"
      ]
    },
    {
      "cell_type": "code",
      "metadata": {
        "id": "JIiU4_ngotGh",
        "colab": {
          "base_uri": "https://localhost:8080/"
        },
        "outputId": "eb2ddfe8-753b-4bfb-d597-a7bc573574d9"
      },
      "source": [
        "print(model_1.predict(input_data))\n",
        "print((model_1.predict(input_data) > 0.5).astype(\"int32\"))"
      ],
      "execution_count": null,
      "outputs": [
        {
          "output_type": "stream",
          "name": "stdout",
          "text": [
            "[[6.155955e-05 9.999385e-01]]\n",
            "[[0 1]]\n"
          ]
        }
      ]
    },
    {
      "cell_type": "markdown",
      "metadata": {
        "id": "ypsWJtgSl_OJ"
      },
      "source": [
        "**How many outputs** are there? How would you interpret them?"
      ]
    },
    {
      "cell_type": "markdown",
      "metadata": {
        "id": "g9CmrRkgT5ZS"
      },
      "source": [
        "# Milestone 2. Exploring Neural Networks\n",
        "\n",
        "Now, let's apply neural networks to our medical imaging problem!"
      ]
    },
    {
      "cell_type": "markdown",
      "metadata": {
        "id": "PD3Z0QamJF68"
      },
      "source": [
        "\n",
        "In our problem, we are given `images` of shape `(64,64,3)`, each assigned a label PNEUMONIA or HEALTHY. We want to identify the key things that we need to design our network. \n",
        "\n",
        "In your group, discuss: \n",
        "\n",
        "* What are our inputs?\n",
        "* What is/are our outputs?\n",
        "\n",
        "How could this look in a neural network diagram?\n",
        "\n",
        "**Brainstorm and sketch out a neural network that would work for this problem, and share with the group!**\n",
        "\n",
        "**Optional Exercise:** Following the setup from Notebook 1, create and test a neural network using Scikit-learn for this problem. [MLPClassifier](https://scikit-learn.org/stable/modules/generated/sklearn.neural_network.MLPClassifier.html) gives you a simple neural network!"
      ]
    },
    {
      "cell_type": "code",
      "metadata": {
        "id": "s2fStUprqjmY",
        "colab": {
          "base_uri": "https://localhost:8080/"
        },
        "outputId": "00358b43-064e-463f-a235-4f3be804fbfb"
      },
      "source": [
        "#YOUR CODE HERE\n",
        "from sklearn.neural_network import MLPClassifier\n",
        "\n",
        "(train_data, train_labels) = get_train_data(flatten = True)\n",
        "(test_data, test_labels) = get_test_data(flatten = True)\n",
        "\n",
        "#YOUR CODE HERE\n",
        "mlp=MLPClassifier(hidden_layer_sizes=(64,))\n",
        "mlp.fit(train_data,train_labels)\n",
        "pred=mlp.predict(test_data)\n",
        "accuracy=accuracy_score(test_labels,pred)\n",
        "print(accuracy)"
      ],
      "execution_count": null,
      "outputs": [
        {
          "output_type": "stream",
          "name": "stdout",
          "text": [
            "0.6775\n"
          ]
        },
        {
          "output_type": "stream",
          "name": "stderr",
          "text": [
            "/usr/local/lib/python3.7/dist-packages/sklearn/neural_network/_multilayer_perceptron.py:696: ConvergenceWarning: Stochastic Optimizer: Maximum iterations (200) reached and the optimization hasn't converged yet.\n",
            "  ConvergenceWarning,\n"
          ]
        }
      ]
    },
    {
      "cell_type": "markdown",
      "metadata": {
        "id": "S0xP2sDhOf4M"
      },
      "source": [
        "## Activity 2a. Challenging pneumonia with our models"
      ]
    },
    {
      "cell_type": "markdown",
      "metadata": {
        "id": "47bngTjCT_pM"
      },
      "source": [
        "Now, let's try out 'Convolutional Neural Networks'! Convolutional neural networks are networks that process images much like our visual system does. We'll use a Keras wrapper that abstracts away the details - talk to your instructor if you're interested in exploring CNN with more details!\n",
        "\n",
        "First, let's get our data. **Why do we not use flattened data for CNNs?**\n",
        "\n"
      ]
    },
    {
      "cell_type": "code",
      "metadata": {
        "id": "YeA8gWV6sqai"
      },
      "source": [
        "train_data, train_labels = get_train_data()\n",
        "test_data, test_labels = get_test_data()"
      ],
      "execution_count": null,
      "outputs": []
    },
    {
      "cell_type": "markdown",
      "metadata": {
        "id": "01ayM3u3sXA-"
      },
      "source": [
        "### Creating Models\n",
        "Now, let's create a model! In fact, let's create two:\n",
        "\n",
        "\n",
        "For a \"vanilla\" neural network:\n",
        "\n",
        "```\n",
        "dense = DenseClassifier(hidden_layer_sizes = (64,32))\n",
        "```\n",
        "* hidden_layer_sizes: the number of neurons in each hidden layer\n",
        "* epochs: the number of times that our network trains on all of the training data\n",
        "\n",
        "\n",
        "For a convolutional neural network:\n",
        "```\n",
        "cnn = CNNClassifier(num_hidden_layers = 1)\n",
        "```\n",
        "* num_hidden_layers: the number of hidden layers\n",
        "\n",
        "**Create your models below!** Use any hidden layer sizes you like."
      ]
    },
    {
      "cell_type": "code",
      "metadata": {
        "id": "YTb16LvwtGNW"
      },
      "source": [
        "#YOUR CODE HERE\n",
        "dense = DenseClassifier(hidden_layer_sizes = (64,32))\n",
        "cnn = CNNClassifier(num_hidden_layers = 1)"
      ],
      "execution_count": null,
      "outputs": []
    },
    {
      "cell_type": "markdown",
      "metadata": {
        "id": "pIFymjNnsNPC"
      },
      "source": [
        "### Fitting and Scoring\n",
        "Now, let's fit  our models!\n",
        "\n",
        "There are default parameters to `.fit` you can call:\n",
        "\n",
        "```\n",
        "model_history = model.fit(train_data, train_labels, epochs = 100, validation_data = (test_data, test_labels), shuffle = True, callbacks = [monitor])\n",
        "```\n",
        "\n",
        "The `shuffle` parameter is important for shuffling the training data before each epoch. The `monitor` callback is used to get a view on internal states and statistics of the model during training. Please don't change these parameters!\n",
        "\n",
        "**Fit your models below!**"
      ]
    },
    {
      "cell_type": "code",
      "metadata": {
        "id": "oUgtK9n6t2CU",
        "colab": {
          "base_uri": "https://localhost:8080/"
        },
        "outputId": "8dbf12a1-d1b7-4ca3-c6fd-d3809940325b"
      },
      "source": [
        "#YOUR CODE HERE\n",
        "model_history_cnn = cnn.fit(train_data, train_labels, epochs = 50, validation_data = (test_data, test_labels), shuffle = True, callbacks = [monitor])\n",
        "model_history_dense = dense.fit(train_data, train_labels, epochs = 50, validation_data = (test_data, test_labels), shuffle = True, callbacks = [monitor])"
      ],
      "execution_count": null,
      "outputs": [
        {
          "output_type": "stream",
          "name": "stdout",
          "text": [
            "Epoch 1/50\n",
            "63/63 [==============================] - 10s 134ms/step - loss: 1.5985 - accuracy: 0.5565 - val_loss: 1.5762 - val_accuracy: 0.7575\n",
            "Epoch 2/50\n",
            "63/63 [==============================] - 10s 154ms/step - loss: 1.5595 - accuracy: 0.6495 - val_loss: 1.5454 - val_accuracy: 0.7700\n",
            "Epoch 3/50\n",
            "63/63 [==============================] - 8s 134ms/step - loss: 1.5224 - accuracy: 0.7125 - val_loss: 1.5081 - val_accuracy: 0.7800\n",
            "Epoch 4/50\n",
            "63/63 [==============================] - 8s 133ms/step - loss: 1.4827 - accuracy: 0.7385 - val_loss: 1.4785 - val_accuracy: 0.7950\n",
            "Epoch 5/50\n",
            "63/63 [==============================] - 8s 132ms/step - loss: 1.4539 - accuracy: 0.7590 - val_loss: 1.4598 - val_accuracy: 0.7275\n",
            "Epoch 6/50\n",
            "63/63 [==============================] - 8s 128ms/step - loss: 1.4200 - accuracy: 0.7835 - val_loss: 1.4351 - val_accuracy: 0.7375\n",
            "Epoch 7/50\n",
            "63/63 [==============================] - 8s 133ms/step - loss: 1.3883 - accuracy: 0.7990 - val_loss: 1.3871 - val_accuracy: 0.8300\n",
            "Epoch 8/50\n",
            "63/63 [==============================] - 9s 140ms/step - loss: 1.3583 - accuracy: 0.8210 - val_loss: 1.3678 - val_accuracy: 0.8075\n",
            "Epoch 9/50\n",
            "63/63 [==============================] - 9s 142ms/step - loss: 1.3452 - accuracy: 0.8150 - val_loss: 1.3389 - val_accuracy: 0.8400\n",
            "Epoch 10/50\n",
            "63/63 [==============================] - 9s 136ms/step - loss: 1.3158 - accuracy: 0.8290 - val_loss: 1.3479 - val_accuracy: 0.7600\n",
            "Epoch 11/50\n",
            "63/63 [==============================] - 8s 125ms/step - loss: 1.2891 - accuracy: 0.8410 - val_loss: 1.3063 - val_accuracy: 0.8125\n",
            "Epoch 12/50\n",
            "63/63 [==============================] - 9s 147ms/step - loss: 1.2642 - accuracy: 0.8395 - val_loss: 1.2860 - val_accuracy: 0.8200\n",
            "Epoch 13/50\n",
            "63/63 [==============================] - 15s 233ms/step - loss: 1.2362 - accuracy: 0.8680 - val_loss: 1.2724 - val_accuracy: 0.8175\n",
            "Epoch 14/50\n",
            "63/63 [==============================] - 9s 145ms/step - loss: 1.2190 - accuracy: 0.8620 - val_loss: 1.2445 - val_accuracy: 0.8275\n",
            "Epoch 15/50\n",
            "63/63 [==============================] - 8s 133ms/step - loss: 1.2011 - accuracy: 0.8655 - val_loss: 1.2151 - val_accuracy: 0.8625\n",
            "Epoch 16/50\n",
            "63/63 [==============================] - 8s 130ms/step - loss: 1.1800 - accuracy: 0.8805 - val_loss: 1.2122 - val_accuracy: 0.8375\n",
            "Epoch 17/50\n",
            "63/63 [==============================] - 9s 138ms/step - loss: 1.1664 - accuracy: 0.8730 - val_loss: 1.2102 - val_accuracy: 0.8350\n",
            "Epoch 18/50\n",
            "63/63 [==============================] - 8s 129ms/step - loss: 1.1539 - accuracy: 0.8835 - val_loss: 1.1976 - val_accuracy: 0.8325\n",
            "Epoch 19/50\n",
            "63/63 [==============================] - 8s 132ms/step - loss: 1.1306 - accuracy: 0.8865 - val_loss: 1.1775 - val_accuracy: 0.8400\n",
            "Epoch 20/50\n",
            "63/63 [==============================] - 9s 136ms/step - loss: 1.1126 - accuracy: 0.8965 - val_loss: 1.2241 - val_accuracy: 0.7825\n",
            "Epoch 21/50\n",
            "63/63 [==============================] - 8s 134ms/step - loss: 1.1005 - accuracy: 0.9045 - val_loss: 1.1495 - val_accuracy: 0.8425\n",
            "Epoch 22/50\n",
            "63/63 [==============================] - 8s 132ms/step - loss: 1.0900 - accuracy: 0.8930 - val_loss: 1.1633 - val_accuracy: 0.8275\n",
            "Epoch 23/50\n",
            "63/63 [==============================] - 8s 125ms/step - loss: 1.0711 - accuracy: 0.8985 - val_loss: 1.1680 - val_accuracy: 0.8175\n",
            "Epoch 24/50\n",
            "63/63 [==============================] - 9s 148ms/step - loss: 1.0430 - accuracy: 0.9105 - val_loss: 1.0997 - val_accuracy: 0.8550\n",
            "Epoch 25/50\n",
            "63/63 [==============================] - 8s 131ms/step - loss: 1.0310 - accuracy: 0.9165 - val_loss: 1.1365 - val_accuracy: 0.8275\n",
            "Epoch 26/50\n",
            "63/63 [==============================] - 8s 130ms/step - loss: 1.0267 - accuracy: 0.9030 - val_loss: 1.1048 - val_accuracy: 0.8450\n",
            "Epoch 27/50\n",
            "63/63 [==============================] - 9s 137ms/step - loss: 1.0187 - accuracy: 0.9120 - val_loss: 1.1305 - val_accuracy: 0.8300\n",
            "Epoch 28/50\n",
            "63/63 [==============================] - 8s 130ms/step - loss: 0.9998 - accuracy: 0.9160 - val_loss: 1.0880 - val_accuracy: 0.8450\n",
            "Epoch 29/50\n",
            "63/63 [==============================] - 9s 148ms/step - loss: 0.9944 - accuracy: 0.9205 - val_loss: 1.1374 - val_accuracy: 0.8200\n",
            "Epoch 30/50\n",
            "63/63 [==============================] - 9s 145ms/step - loss: 0.9689 - accuracy: 0.9250 - val_loss: 1.0574 - val_accuracy: 0.8500\n",
            "Epoch 31/50\n",
            "63/63 [==============================] - 9s 137ms/step - loss: 0.9597 - accuracy: 0.9285 - val_loss: 1.1532 - val_accuracy: 0.8000\n",
            "Epoch 32/50\n",
            "63/63 [==============================] - 8s 132ms/step - loss: 0.9600 - accuracy: 0.9215 - val_loss: 1.0657 - val_accuracy: 0.8375\n",
            "Epoch 33/50\n",
            "63/63 [==============================] - 9s 135ms/step - loss: 0.9419 - accuracy: 0.9300 - val_loss: 1.1205 - val_accuracy: 0.8075\n",
            "Epoch 34/50\n",
            "63/63 [==============================] - 9s 145ms/step - loss: 0.9326 - accuracy: 0.9260 - val_loss: 1.0909 - val_accuracy: 0.8225\n",
            "Epoch 35/50\n",
            "63/63 [==============================] - 9s 141ms/step - loss: 0.9203 - accuracy: 0.9365 - val_loss: 1.1162 - val_accuracy: 0.8025\n",
            "Epoch 36/50\n",
            "63/63 [==============================] - 9s 145ms/step - loss: 0.9123 - accuracy: 0.9325 - val_loss: 1.0650 - val_accuracy: 0.8250\n",
            "Epoch 37/50\n",
            "63/63 [==============================] - 9s 141ms/step - loss: 0.9072 - accuracy: 0.9285 - val_loss: 1.1251 - val_accuracy: 0.8050\n",
            "Epoch 38/50\n",
            "63/63 [==============================] - 9s 139ms/step - loss: 0.8895 - accuracy: 0.9340 - val_loss: 1.0368 - val_accuracy: 0.8325\n",
            "Epoch 39/50\n",
            "63/63 [==============================] - 8s 132ms/step - loss: 0.8766 - accuracy: 0.9440 - val_loss: 1.0628 - val_accuracy: 0.8150\n",
            "Epoch 40/50\n",
            "63/63 [==============================] - 8s 132ms/step - loss: 0.8640 - accuracy: 0.9425 - val_loss: 1.0350 - val_accuracy: 0.8250\n",
            "Epoch 41/50\n",
            "63/63 [==============================] - 8s 130ms/step - loss: 0.8638 - accuracy: 0.9370 - val_loss: 1.1415 - val_accuracy: 0.7875\n",
            "Epoch 42/50\n",
            "63/63 [==============================] - 8s 129ms/step - loss: 0.8467 - accuracy: 0.9460 - val_loss: 1.1980 - val_accuracy: 0.7675\n",
            "Epoch 43/50\n",
            "63/63 [==============================] - 8s 125ms/step - loss: 0.8429 - accuracy: 0.9430 - val_loss: 1.0178 - val_accuracy: 0.8275\n",
            "Epoch 44/50\n",
            "63/63 [==============================] - 9s 144ms/step - loss: 0.8322 - accuracy: 0.9400 - val_loss: 1.0286 - val_accuracy: 0.8225\n",
            "Epoch 45/50\n",
            "63/63 [==============================] - 8s 131ms/step - loss: 0.8247 - accuracy: 0.9470 - val_loss: 1.0913 - val_accuracy: 0.8000\n",
            "Epoch 46/50\n",
            "63/63 [==============================] - 9s 135ms/step - loss: 0.8262 - accuracy: 0.9420 - val_loss: 1.0836 - val_accuracy: 0.8000\n",
            "Epoch 47/50\n",
            "63/63 [==============================] - 9s 136ms/step - loss: 0.8101 - accuracy: 0.9505 - val_loss: 1.0495 - val_accuracy: 0.8075\n",
            "Epoch 48/50\n",
            "63/63 [==============================] - 9s 137ms/step - loss: 0.8007 - accuracy: 0.9445 - val_loss: 1.1138 - val_accuracy: 0.7875\n",
            "Epoch 49/50\n",
            "63/63 [==============================] - 8s 126ms/step - loss: 0.7944 - accuracy: 0.9490 - val_loss: 1.0979 - val_accuracy: 0.7950\n",
            "Epoch 50/50\n",
            "63/63 [==============================] - 8s 128ms/step - loss: 0.7793 - accuracy: 0.9545 - val_loss: 1.1418 - val_accuracy: 0.7725\n",
            "Epoch 1/50\n",
            "63/63 [==============================] - 2s 14ms/step - loss: 0.7866 - accuracy: 0.5055 - val_loss: 0.6953 - val_accuracy: 0.5025\n",
            "Epoch 2/50\n",
            "63/63 [==============================] - 1s 13ms/step - loss: 0.7066 - accuracy: 0.5190 - val_loss: 0.6750 - val_accuracy: 0.5775\n",
            "Epoch 3/50\n",
            "63/63 [==============================] - 1s 12ms/step - loss: 0.6987 - accuracy: 0.5075 - val_loss: 0.6901 - val_accuracy: 0.6475\n",
            "Epoch 4/50\n",
            "63/63 [==============================] - 1s 13ms/step - loss: 0.6832 - accuracy: 0.5420 - val_loss: 0.6698 - val_accuracy: 0.7300\n",
            "Epoch 5/50\n",
            "63/63 [==============================] - 1s 12ms/step - loss: 0.6697 - accuracy: 0.5860 - val_loss: 0.6511 - val_accuracy: 0.7075\n",
            "Epoch 6/50\n",
            "63/63 [==============================] - 1s 13ms/step - loss: 0.6713 - accuracy: 0.5785 - val_loss: 0.6324 - val_accuracy: 0.7300\n",
            "Epoch 7/50\n",
            "63/63 [==============================] - 1s 12ms/step - loss: 0.6467 - accuracy: 0.6085 - val_loss: 0.6209 - val_accuracy: 0.7850\n",
            "Epoch 8/50\n",
            "63/63 [==============================] - 1s 13ms/step - loss: 0.6483 - accuracy: 0.6065 - val_loss: 0.6124 - val_accuracy: 0.7925\n",
            "Epoch 9/50\n",
            "63/63 [==============================] - 1s 13ms/step - loss: 0.6171 - accuracy: 0.6445 - val_loss: 0.5739 - val_accuracy: 0.7750\n",
            "Epoch 10/50\n",
            "63/63 [==============================] - 1s 13ms/step - loss: 0.6175 - accuracy: 0.6510 - val_loss: 0.5659 - val_accuracy: 0.8100\n",
            "Epoch 11/50\n",
            "63/63 [==============================] - 1s 13ms/step - loss: 0.5850 - accuracy: 0.6890 - val_loss: 0.5419 - val_accuracy: 0.7925\n",
            "Epoch 12/50\n",
            "63/63 [==============================] - 1s 12ms/step - loss: 0.5890 - accuracy: 0.6705 - val_loss: 0.5355 - val_accuracy: 0.8275\n",
            "Epoch 13/50\n",
            "63/63 [==============================] - 1s 13ms/step - loss: 0.5635 - accuracy: 0.6945 - val_loss: 0.5249 - val_accuracy: 0.8125\n",
            "Epoch 14/50\n",
            "63/63 [==============================] - 1s 12ms/step - loss: 0.5622 - accuracy: 0.7095 - val_loss: 0.5133 - val_accuracy: 0.8400\n",
            "Epoch 15/50\n",
            "63/63 [==============================] - 1s 12ms/step - loss: 0.5278 - accuracy: 0.7325 - val_loss: 0.4982 - val_accuracy: 0.8425\n",
            "Epoch 16/50\n",
            "63/63 [==============================] - 1s 13ms/step - loss: 0.5155 - accuracy: 0.7305 - val_loss: 0.4739 - val_accuracy: 0.8350\n",
            "Epoch 17/50\n",
            "63/63 [==============================] - 1s 15ms/step - loss: 0.5193 - accuracy: 0.7500 - val_loss: 0.4798 - val_accuracy: 0.8125\n",
            "Epoch 18/50\n",
            "63/63 [==============================] - 1s 16ms/step - loss: 0.4985 - accuracy: 0.7605 - val_loss: 0.4781 - val_accuracy: 0.7825\n",
            "Epoch 19/50\n",
            "63/63 [==============================] - 1s 15ms/step - loss: 0.5023 - accuracy: 0.7570 - val_loss: 0.4452 - val_accuracy: 0.8450\n",
            "Epoch 20/50\n",
            "63/63 [==============================] - 1s 14ms/step - loss: 0.4779 - accuracy: 0.7585 - val_loss: 0.4515 - val_accuracy: 0.8325\n",
            "Epoch 21/50\n",
            "63/63 [==============================] - 1s 13ms/step - loss: 0.4653 - accuracy: 0.7795 - val_loss: 0.4364 - val_accuracy: 0.8425\n",
            "Epoch 22/50\n",
            "63/63 [==============================] - 1s 16ms/step - loss: 0.4678 - accuracy: 0.7750 - val_loss: 0.4399 - val_accuracy: 0.8400\n",
            "Epoch 23/50\n",
            "63/63 [==============================] - 1s 14ms/step - loss: 0.4573 - accuracy: 0.7790 - val_loss: 0.4324 - val_accuracy: 0.8325\n",
            "Epoch 24/50\n",
            "63/63 [==============================] - 1s 13ms/step - loss: 0.4365 - accuracy: 0.7935 - val_loss: 0.4092 - val_accuracy: 0.8425\n",
            "Epoch 25/50\n",
            "63/63 [==============================] - 1s 13ms/step - loss: 0.4229 - accuracy: 0.8025 - val_loss: 0.4207 - val_accuracy: 0.8175\n",
            "Epoch 26/50\n",
            "63/63 [==============================] - 1s 14ms/step - loss: 0.4383 - accuracy: 0.7975 - val_loss: 0.4105 - val_accuracy: 0.8450\n",
            "Epoch 27/50\n",
            "63/63 [==============================] - 1s 16ms/step - loss: 0.4373 - accuracy: 0.8035 - val_loss: 0.4488 - val_accuracy: 0.7975\n",
            "Epoch 28/50\n",
            "63/63 [==============================] - 1s 14ms/step - loss: 0.4068 - accuracy: 0.8080 - val_loss: 0.4031 - val_accuracy: 0.8275\n",
            "Epoch 29/50\n",
            "63/63 [==============================] - 1s 12ms/step - loss: 0.4112 - accuracy: 0.8145 - val_loss: 0.4468 - val_accuracy: 0.7900\n",
            "Epoch 30/50\n",
            "63/63 [==============================] - 1s 12ms/step - loss: 0.4116 - accuracy: 0.8175 - val_loss: 0.4098 - val_accuracy: 0.8050\n",
            "Epoch 31/50\n",
            "63/63 [==============================] - 1s 12ms/step - loss: 0.4048 - accuracy: 0.8155 - val_loss: 0.4214 - val_accuracy: 0.8050\n",
            "Epoch 32/50\n",
            "63/63 [==============================] - 1s 12ms/step - loss: 0.4061 - accuracy: 0.8175 - val_loss: 0.3861 - val_accuracy: 0.8350\n",
            "Epoch 33/50\n",
            "63/63 [==============================] - 1s 13ms/step - loss: 0.3847 - accuracy: 0.8290 - val_loss: 0.4570 - val_accuracy: 0.7575\n",
            "Epoch 34/50\n",
            "63/63 [==============================] - 1s 12ms/step - loss: 0.3825 - accuracy: 0.8255 - val_loss: 0.3919 - val_accuracy: 0.8300\n",
            "Epoch 35/50\n",
            "63/63 [==============================] - 1s 15ms/step - loss: 0.3883 - accuracy: 0.8345 - val_loss: 0.4127 - val_accuracy: 0.8075\n",
            "Epoch 36/50\n",
            "63/63 [==============================] - 1s 13ms/step - loss: 0.3883 - accuracy: 0.8215 - val_loss: 0.4441 - val_accuracy: 0.7800\n",
            "Epoch 37/50\n",
            "63/63 [==============================] - 1s 12ms/step - loss: 0.3770 - accuracy: 0.8430 - val_loss: 0.4351 - val_accuracy: 0.7825\n",
            "Epoch 38/50\n",
            "63/63 [==============================] - 1s 12ms/step - loss: 0.3869 - accuracy: 0.8345 - val_loss: 0.4220 - val_accuracy: 0.8100\n",
            "Epoch 39/50\n",
            "63/63 [==============================] - 1s 12ms/step - loss: 0.3696 - accuracy: 0.8400 - val_loss: 0.3968 - val_accuracy: 0.8150\n",
            "Epoch 40/50\n",
            "63/63 [==============================] - 1s 12ms/step - loss: 0.3677 - accuracy: 0.8465 - val_loss: 0.3852 - val_accuracy: 0.8325\n",
            "Epoch 41/50\n",
            "63/63 [==============================] - 1s 12ms/step - loss: 0.3736 - accuracy: 0.8390 - val_loss: 0.4285 - val_accuracy: 0.7800\n",
            "Epoch 42/50\n",
            "63/63 [==============================] - 1s 13ms/step - loss: 0.3578 - accuracy: 0.8455 - val_loss: 0.4729 - val_accuracy: 0.7325\n",
            "Epoch 43/50\n",
            "63/63 [==============================] - 1s 12ms/step - loss: 0.3734 - accuracy: 0.8410 - val_loss: 0.4389 - val_accuracy: 0.7675\n",
            "Epoch 44/50\n",
            "63/63 [==============================] - 1s 13ms/step - loss: 0.3599 - accuracy: 0.8540 - val_loss: 0.4394 - val_accuracy: 0.7650\n",
            "Epoch 45/50\n",
            "63/63 [==============================] - 1s 14ms/step - loss: 0.3358 - accuracy: 0.8640 - val_loss: 0.4347 - val_accuracy: 0.7725\n",
            "Epoch 46/50\n",
            "63/63 [==============================] - 1s 14ms/step - loss: 0.3601 - accuracy: 0.8460 - val_loss: 0.4050 - val_accuracy: 0.8000\n",
            "Epoch 47/50\n",
            "63/63 [==============================] - 1s 14ms/step - loss: 0.3526 - accuracy: 0.8590 - val_loss: 0.3837 - val_accuracy: 0.8175\n",
            "Epoch 48/50\n",
            "63/63 [==============================] - 1s 17ms/step - loss: 0.3346 - accuracy: 0.8625 - val_loss: 0.3948 - val_accuracy: 0.8150\n",
            "Epoch 49/50\n",
            "63/63 [==============================] - 1s 15ms/step - loss: 0.3362 - accuracy: 0.8620 - val_loss: 0.3892 - val_accuracy: 0.8175\n",
            "Epoch 50/50\n",
            "63/63 [==============================] - 1s 12ms/step - loss: 0.3391 - accuracy: 0.8625 - val_loss: 0.3697 - val_accuracy: 0.8325\n"
          ]
        }
      ]
    },
    {
      "cell_type": "markdown",
      "metadata": {
        "id": "1NbTRTFluCNt"
      },
      "source": [
        "**Can you interpret the numbers displayed? Which do you care about most?**\n",
        "\n",
        "*Hint*: \"validation set\" is similar to \"test set\"."
      ]
    },
    {
      "cell_type": "markdown",
      "metadata": {
        "id": "xlYo20_lttEA"
      },
      "source": [
        "###Scoring\n",
        "\n",
        "Now, let's evaluate our models! To get the scores, you can use:\n",
        "```\n",
        "score = model.evaluate(test_data, test_labels, verbose=0)\n",
        "```\n",
        "\n",
        "Then `score[0]` will be test loss and `score[1]` will be test accuracy.\n",
        "\n"
      ]
    },
    {
      "cell_type": "code",
      "metadata": {
        "id": "tywOuLnPucIC",
        "colab": {
          "base_uri": "https://localhost:8080/"
        },
        "outputId": "de9986b7-2081-450e-e86f-0aaf64afb07b"
      },
      "source": [
        "#YOUR CODE HERE to score your models\n",
        "score_dense = dense.evaluate(test_data, test_labels, verbose=1)\n",
        "score_cnn = cnn.evaluate(test_data, test_labels, verbose=1)\n",
        "print(score_dense)\n",
        "print(score_cnn)"
      ],
      "execution_count": null,
      "outputs": [
        {
          "output_type": "stream",
          "name": "stdout",
          "text": [
            "13/13 [==============================] - 0s 4ms/step - loss: 0.3697 - accuracy: 0.8325\n",
            "13/13 [==============================] - 0s 33ms/step - loss: 1.1418 - accuracy: 0.7725\n",
            "[0.3697383403778076, 0.8324999809265137]\n",
            "[1.1417815685272217, 0.7724999785423279]\n"
          ]
        }
      ]
    },
    {
      "cell_type": "markdown",
      "metadata": {
        "id": "jakb5j_Hux7W"
      },
      "source": [
        "**Which model did better? Any surprises?**"
      ]
    },
    {
      "cell_type": "markdown",
      "metadata": {
        "id": "ozaEE78ktkyw"
      },
      "source": [
        "### Plotting\n",
        "\n",
        "A great way to understand our model better is to plot the training and test accuracy over time with `plot_acc(model_history)`.\n",
        "\n",
        "**What do you observe of the training and test accuracy over the training epochs?**\n",
        "\n",
        "Discuss this with your group and your instructor! What problems are we experiencing? How can we fix them? "
      ]
    },
    {
      "cell_type": "code",
      "metadata": {
        "id": "_nBfrnjIXzdp",
        "colab": {
          "base_uri": "https://localhost:8080/",
          "height": 549
        },
        "outputId": "20995018-066c-4f7c-d77b-a051110223ad"
      },
      "source": [
        "#YOUR CODE HERE\n",
        "plot_acc(model_history_dense)\n",
        "plot_acc(model_history_cnn)"
      ],
      "execution_count": null,
      "outputs": [
        {
          "output_type": "display_data",
          "data": {
            "text/plain": [
              "<Figure size 432x288 with 1 Axes>"
            ],
            "image/png": "[encoded data removed]"
          },
          "metadata": {
            "needs_background": "light"
          }
        },
        {
          "output_type": "display_data",
          "data": {
            "text/plain": [
              "<Figure size 432x288 with 1 Axes>"
            ],
            "image/png": "[encoded data removed]"
          },
          "metadata": {
            "needs_background": "light"
          }
        }
      ]
    },
    {
      "cell_type": "markdown",
      "metadata": {
        "id": "i3wqKrSyVBqr"
      },
      "source": [
        "## Instructor-Led Discussion: Overfitting\n",
        "\n",
        "**Questions:**\n",
        "Was the best epoch necessarily the last epoch? \n",
        "\n",
        "You should check what the best epoch was at every step of the way!\n",
        "\n",
        "**When does your model overfit? How could we fix it?**\n",
        "\n",
        "**Experiment with different network structures** before you move on!"
      ]
    },
    {
      "cell_type": "markdown",
      "metadata": {
        "id": "G5scKiYAYE8g"
      },
      "source": [
        "\n",
        "# Milestone 3. Expert models: Transfer learning"
      ]
    },
    {
      "cell_type": "markdown",
      "metadata": {
        "id": "FybhlxdVYFbv"
      },
      "source": [
        "\n",
        "## Instructor-Led Discussion: Transfer Learning\n"
      ]
    },
    {
      "cell_type": "markdown",
      "metadata": {
        "id": "3Bx5nyzE36EQ"
      },
      "source": [
        "So far, we've used models that were built from 'scratch'. Unfortunately, our training data is small relative to the amount of data available in the real world, so just training on our dataset is going to be inherently limited. \n",
        "\n",
        "Luckily, there are **expert models**, or state-of-the-art models that have been trained by the world's top researchers! While these expert models haven't trained on our training data, they have trained extensively on larger datasets. We can input our data and reasonably expect that they will pick up our task fairly quickly. \n",
        "\n",
        "In deep learning, the idea of using a model trained on another task as a starting point for your model is known as **transfer learning**. "
      ]
    },
    {
      "cell_type": "markdown",
      "metadata": {
        "id": "DChmzlt3ARPy"
      },
      "source": [
        "### VGG 16"
      ]
    },
    {
      "cell_type": "markdown",
      "metadata": {
        "id": "lFtHOYI2AdSs"
      },
      "source": [
        "For our transfer learning, we're going to use 'experts' built upon the famous 'ImageNet' classification problem. \n",
        "\n",
        "In ImageNet, participants were challenged to build machine learning models that could distinguish 14 million images' categories, where there were > 20,000 categories available. \n",
        "\n",
        "Below, we see examples of 4 different categories. \n",
        "\n",
        "![](http://cs231n.github.io/assets/trainset.jpg)\n",
        "\n"
      ]
    },
    {
      "cell_type": "markdown",
      "metadata": {
        "id": "J-E_AiG-CFj0"
      },
      "source": [
        "One of the experts we can use is VGG16. VGG16 is a specific convolutional neural network that was allowed to study the 14 million images 74 times. *(Read more about VGG16 [here!](https://neurohive.io/en/popular-networks/vgg16/))*\n",
        "\n",
        "After training, VGG16 was able to guess something close to the real label (top-5 accuracy) better than a human can."
      ]
    },
    {
      "cell_type": "markdown",
      "metadata": {
        "id": "IvkajtdHAbzL"
      },
      "source": [
        "![](https://cdn-images-1.medium.com/max/1600/0*V1muWIDnPVwZUuEv.png)"
      ]
    },
    {
      "cell_type": "markdown",
      "metadata": {
        "id": "Vwj8o5X3D325"
      },
      "source": [
        "We're going to take an expert model like VGG16 and let it train on OUR x-rays. Hopefully, its experience with those 14 million images will help it differentiate between healthy and pneumonia-affected x-rays. "
      ]
    },
    {
      "cell_type": "markdown",
      "metadata": {
        "id": "g-357WWC7qJJ"
      },
      "source": [
        "### Exercise (Coding) | Within a student group"
      ]
    },
    {
      "cell_type": "markdown",
      "metadata": {
        "id": "uz_mVsECHvro"
      },
      "source": [
        "Let's tap an expert model to help us out with our pneumonia prediction!\n",
        "\n",
        "We provide a wrapper that lets you 'call' up and employ expert models. You can call it like...\n",
        "\n",
        "```\n",
        "transfer = TransferClassifier(name = 'VGG16')\n",
        "```\n",
        "\n",
        "The experts we have on hand are:\n",
        "* `VGG16`\n",
        "* `VGG19`\n",
        "* `ResNet50`\n",
        "* `DenseNet121`\n",
        "\n",
        "There are default parameters to model.fit you can call:\n",
        "\n",
        "`model.fit(train_data, train_labels, epochs = N, validation_data = (test_data, test_labels), shuffle = True, callbacks = [monitor])`\n",
        "\n",
        "The `shuffle` parameter is important for shuffling the training data before each epoch. The `[monitor]` callback is used to get a view on internal states and statistics of the model during training. Do not change these parameters!\n",
        "\n",
        "**Please experiment with using these experts! Remember to fit and score your model, and to take a look at the training history.**\n",
        "\n",
        "How many epochs do you need now?\n"
      ]
    },
    {
      "cell_type": "code",
      "metadata": {
        "id": "0VB79BCx7tvg"
      },
      "source": [
        "### YOUR CODE HERE\n",
        "train_data, train_labels = get_train_data()\n",
        "test_data, test_labels = get_test_data()\n",
        "transfer = TransferClassifier(name = 'VGG16')\n",
        "transfer.fit(train_data, train_labels, epochs = 10, validation_data = (test_data, test_labels), shuffle = True, callbacks = [monitor])\n",
        "plot_acc(transfer.history)\n",
        "### END CODE"
      ],
      "execution_count": null,
      "outputs": []
    },
    {
      "cell_type": "markdown",
      "metadata": {
        "id": "h9Qp129rNV3U"
      },
      "source": [
        "# Milestone 4\n",
        "## Instructor-led Discussion: Model Evaluation"
      ]
    },
    {
      "cell_type": "markdown",
      "metadata": {
        "id": "wwERVb37ylko"
      },
      "source": [
        "## Activity 4a. How did we do on pneumonia prediction? "
      ]
    },
    {
      "cell_type": "markdown",
      "metadata": {
        "id": "sXyQLXigDbtg"
      },
      "source": [
        "\n",
        "\n",
        "### Exercise (Coding) "
      ]
    },
    {
      "cell_type": "markdown",
      "metadata": {
        "id": "hBbSwkgVj7gS"
      },
      "source": [
        "Set your best model to the one you have trained (e.g., the transfer learning model)."
      ]
    },
    {
      "cell_type": "code",
      "metadata": {
        "id": "TmjOJCGDjsMk"
      },
      "source": [
        "best_model = transfer ## Change this if another model did better!"
      ],
      "execution_count": null,
      "outputs": []
    },
    {
      "cell_type": "markdown",
      "metadata": {
        "id": "UBhDGS02VGHa"
      },
      "source": [
        "As we learned last week, total accuracy does not reflect all that we want to know about a model's performance. It's just one metric out of many possible metrics for evaluating models. \n",
        "\n",
        "In the case of pneumonia prediction, we may be more interested in other quantities, such as 'how accurate were we on the pneumonia category?' or 'how accurate were we on the normal category?' or 'how much of pneumonia were confused for normal?' or vice versa. \n",
        "\n"
      ]
    },
    {
      "cell_type": "markdown",
      "metadata": {
        "id": "T_GjNUEBMSke"
      },
      "source": [
        "Our metrics for classification can be described in terms of a 'confusion matrix', shown below. \n",
        "\n",
        "![Confusion Matrix](https://cdn-images-1.medium.com/max/1600/1*Z54JgbS4DUwWSknhDCvNTQ.png)\n",
        "\n",
        "In a confusion matrix, we think in terms of 'actual' and 'predicted values'. If we take Pneumonia = 1/Positive and Normal = 0/Negative, then **what do TP, FP, TN, and FN mean?**\n",
        "\n",
        "\n"
      ]
    },
    {
      "cell_type": "markdown",
      "metadata": {
        "id": "BL0ns-b9GBym"
      },
      "source": [
        "The `sklearn` package makes calculating confusion matrices very quick! Its `metrics` submodule actually comes with a `confusion_matrix` tool. Let's start by grabbing that."
      ]
    },
    {
      "cell_type": "code",
      "metadata": {
        "id": "f2E5299cNEcp"
      },
      "source": [
        "from sklearn.metrics import accuracy_score, confusion_matrix"
      ],
      "execution_count": null,
      "outputs": []
    },
    {
      "cell_type": "markdown",
      "metadata": {
        "id": "bvFawPv1NIyy"
      },
      "source": [
        "To use `confusion_matrix`, we need:\n",
        "* `labels`: the labels of the data (1 - PNEUMONIA or 0 - NORMAL)\n",
        "* `predictions`: what our model thinks the labels are\n",
        "\n",
        "To get `predictions`, you'll want to use ```best_model.predict_classes(test_data)```. \n",
        "\n",
        "Please get the `predictions`, and use `accuracy_score` to print the overall test accuracy:"
      ]
    },
    {
      "cell_type": "code",
      "metadata": {
        "id": "Ke5_OhU1wlpU"
      },
      "source": [
        "#YOUR CODE HERE\n",
        "predictions = (best_model.predict(test_data) > 0.5).astype(\"int32\")\n",
        "print('Accuracy: ', accuracy_score(test_labels, predictions)*)"
      ],
      "execution_count": null,
      "outputs": []
    },
    {
      "cell_type": "markdown",
      "metadata": {
        "id": "XcFGwTMDkCAp"
      },
      "source": [
        "Now let's get our confusion matrix, and split it out into true positive, true negative, false positive, and false negative!"
      ]
    },
    {
      "cell_type": "code",
      "metadata": {
        "id": "O7omQvlbkSTn"
      },
      "source": [
        "confusion = confusion_matrix(test_labels, predictions)\n",
        "print(confusion)"
      ],
      "execution_count": null,
      "outputs": []
    },
    {
      "cell_type": "markdown",
      "metadata": {
        "id": "8zQjmPA4w8wJ"
      },
      "source": [
        "**How do you interpret each number?**"
      ]
    },
    {
      "cell_type": "code",
      "metadata": {
        "id": "K17HWY9Iw3gA"
      },
      "source": [
        "tp  = confusion[1][1]\n",
        "tn  = confusion[0][0] \n",
        "fp = confusion[0][1]\n",
        "fn = confusion[1][0]\n",
        "\n",
        "print('True positive: %d'%tp)\n",
        "print('True negative: %d'%tn)\n",
        "print('False positive: %d'%fp)\n",
        "print('False negative: %d'%fn)"
      ],
      "execution_count": null,
      "outputs": []
    },
    {
      "cell_type": "markdown",
      "metadata": {
        "id": "eKlghw6_krXL"
      },
      "source": [
        "We can visualize the confusion matrix with seaborn to make it easier for our eyes..."
      ]
    },
    {
      "cell_type": "code",
      "metadata": {
        "id": "Q0Cp60eokseD"
      },
      "source": [
        "# grab our plotting package\n",
        "import seaborn as sns\n",
        "import matplotlib.pyplot as plt"
      ],
      "execution_count": null,
      "outputs": []
    },
    {
      "cell_type": "code",
      "metadata": {
        "id": "l_Jwv2-OktLb"
      },
      "source": [
        "sns.heatmap(confusion, annot = True, fmt = 'd', cbar_kws={'label':'count'});\n",
        "plt.ylabel('Actual');\n",
        "plt.xlabel('Predicted');"
      ],
      "execution_count": null,
      "outputs": []
    },
    {
      "cell_type": "markdown",
      "metadata": {
        "id": "lFj6JvhMxAwX"
      },
      "source": [
        "**What do you notice about this confusion matrix?**"
      ]
    },
    {
      "cell_type": "markdown",
      "metadata": {
        "id": "mdnF7l8_khHU"
      },
      "source": [
        "## Instructor-Led Discussion: Comparing False Positives and False Negatives"
      ]
    },
    {
      "cell_type": "markdown",
      "metadata": {
        "id": "r8Tt6kTRkTvm"
      },
      "source": [
        "**Now that we have our confusion matrix, let's take a step back and discuss**\n",
        "\n",
        "What did our model confuse more? \n",
        "* PNEUMONIA for NORMAL or...\n",
        "* NORMAL for PNEUMONIA\n",
        "\n",
        "Why do you think it might have confused one for the other? \n",
        "\n",
        "**Discuss with your instructor what you got and also...**\n",
        "\n",
        "What is more problematic? False positives or False negatives? \n",
        "\n",
        "Which of these metrics do we want to keep low? \n",
        "\n",
        "**Optional challenge exercises:**\n",
        "- Create a function to calculate [precision and recall](https://en.wikipedia.org/wiki/Precision_and_recall). Which one do you care about more?\n",
        "- Experiment with your models to find one that optimizes for what you care about, not just accuracy!**"
      ]
    },
    {
      "cell_type": "markdown",
      "metadata": {
        "id": "u8KmugJ_N9BQ"
      },
      "source": [
        "# Fin!\n"
      ]
    },
    {
      "cell_type": "markdown",
      "metadata": {
        "id": "RV85QOOGQ2xm"
      },
      "source": [
        "To recap, we built neural network models to see if we can do better than our baseline models performed. It turns out that we can! And, also, by introducing convolutions to our networks (making the convolutional neural networks), we can improve by quite a lot. Finally, we employed pretrained 'expert' models to boost our performance even further.\n",
        "\n",
        "In the next section, we'll test out our models on actual field data!"
      ]
    },
    {
      "cell_type": "markdown",
      "metadata": {
        "id": "14rKID6MOo4N"
      },
      "source": [
        "![](https://storage.googleapis.com/kaggle-competitions/kaggle/10338/logos/header.png)"
      ]
    }
  ]
}